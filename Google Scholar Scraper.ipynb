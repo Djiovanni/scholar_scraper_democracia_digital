{
 "cells": [
  {
   "cell_type": "code",
   "execution_count": null,
   "metadata": {},
   "outputs": [],
   "source": [
    "from platform import python_version\n",
    "import platform\n",
    "print(dir(platform))"
   ]
  },
  {
   "cell_type": "code",
   "execution_count": null,
   "metadata": {},
   "outputs": [],
   "source": [
    "platform.python_version()"
   ]
  },
  {
   "cell_type": "code",
   "execution_count": 12,
   "metadata": {},
   "outputs": [],
   "source": [
    "from selenium import webdriver\n",
    "import re\n",
    "from bs4 import BeautifulSoup\n",
    "import random\n",
    "import time\n",
    "import pandas as pd\n",
    "import datetime\n",
    "import nltk"
   ]
  },
  {
   "cell_type": "code",
   "execution_count": 2,
   "metadata": {},
   "outputs": [],
   "source": [
    "# key words\n",
    "key_words = [\n",
    "    '\"edemocracia\"',\n",
    "    'democracia digital',\n",
    "    'democracia eletrônica',\n",
    "    'democracia virtual',\n",
    "    'democracia online',\n",
    "    'democracia AND novas mídias',\n",
    "    'democracia AND tecnologia',\n",
    "    'ciberdemocracia',\n",
    "    'teledemocracia',\n",
    "    'democracia AND Internet',\n",
    "    # participação OK\n",
    "    'eparticipação',\n",
    "    'participação AND tecnologia',\n",
    "    'participação AND Internet',\n",
    "    'participação AND digital',\n",
    "    'participação AND virtual',\n",
    "    'participação AND TICs',\n",
    "    'participação AND novas mídias',\n",
    "    'participação AND online',\n",
    "    'participação política online',\n",
    "    'participação política digital',\n",
    "    'participação política virtual',\n",
    "    # deliberação OK\n",
    "    'edeliberação',\n",
    "    'Deliberação AND Internet',\n",
    "    'Deliberação AND digital',\n",
    "    '\"Deliberação virtual\"',\n",
    "    '\"Deliberação online\"',\n",
    "    # esfera puública\n",
    "    'Esfera Pública & Internet',\n",
    "    'Esfera Pública & digital',\n",
    "    'Esfera Pública virtual',\n",
    "    'Esfera Pública online',\n",
    "    # transparência\n",
    "    'etransparência',\n",
    "    'transparência digital',\n",
    "    'transparência AND novas mídias',\n",
    "    'transparência online',\n",
    "    'transparência AND internet',\n",
    "    'Transparência AND tecnologia',\n",
    "    'Transparência AND TICs',\n",
    "    'transparência AND websites',\n",
    "    'Transparência AND portais',\n",
    "    'governo aberto',\n",
    "    'Dados abertos governamentais',\n",
    "    'parlamento aberto',\n",
    "    'parlamento digital',\n",
    "    'webcidadania',\n",
    "    'exclusão digital'\n",
    "]"
   ]
  },
  {
   "cell_type": "code",
   "execution_count": 17,
   "metadata": {},
   "outputs": [],
   "source": [
    "def getListFromGrid(soup):\n",
    "    artigos = []\n",
    "    elements = soup.findAll(\"div\", {\"class\":\"gs_r gs_or gs_scl\"})\n",
    "    for element in elements:\n",
    "        # title\n",
    "        try:\n",
    "            title = element.find(\"h3\", {\"class\":\"gs_rt\"})\n",
    "            title_text = title.text\n",
    "        except:\n",
    "            title_text = \"NA\"\n",
    "        \n",
    "        # title_url\n",
    "        try:\n",
    "            title_url = title.find(\"a\", href=True)\n",
    "            title_url = title_url[\"href\"]\n",
    "        except:\n",
    "            title_url = \"NA\"\n",
    "        \n",
    "        # doc_url\n",
    "        try:\n",
    "            document_url = element.find(\"div\", {\"class\":\"gs_ggs gs_fl\"})\n",
    "            document_url = document_url.find(\"a\", href=True)\n",
    "            document_url = document_url[\"href\"]\n",
    "        except:\n",
    "            document_url = \"NA\"\n",
    "\n",
    "        # green_line\n",
    "        try:\n",
    "            green_line = element.find(\"div\", {\"class\":\"gs_a\"})\n",
    "            green_line\n",
    "        except:\n",
    "            green_line = \"NA\"\n",
    "\n",
    "        # resume\n",
    "        try:\n",
    "            abstract = element.find(\"div\", {\"class\":\"gs_rs\"})\n",
    "            abstract_text = abstract.text\n",
    "        except:\n",
    "            abstract_text = \"NA\"\n",
    "\n",
    "        artigos.append({\"title\":title_text,\n",
    "                        \"title_url\":title_url,\n",
    "                        \"doc_url\":document_url,\n",
    "                        \"green_line\":green_line,\n",
    "                        \"abstract\":abstract_text})\n",
    "\n",
    "    return artigos"
   ]
  },
  {
   "cell_type": "code",
   "execution_count": null,
   "metadata": {},
   "outputs": [],
   "source": [
    "a = '\"democracia\" OR democracia digital OR \"democracia eletrônica\"  OR \"democracia virtual\" OR \"democracia online\" OR democracy AND novas mídias democracia AND tecnologia OR ciberdemocracia OR  teledemocracia OR democracia AND Internet'\n",
    "a = re.sub('\\s+', '+', a)\n",
    "a"
   ]
  },
  {
   "cell_type": "code",
   "execution_count": null,
   "metadata": {},
   "outputs": [],
   "source": [
    "# esse aqui\n",
    "\n",
    "#\n",
    "url = 'https://scholar.google.com.br/scholar?start={}&q=\"democracia\"+OR+democracia+digital+OR+\"democracia+eletrônica\"+OR+\"democracia+virtual\"+OR+\"democracia+online\"+OR+democracy+AND+novas+mídias+democracia+AND+tecnologia+OR+ciberdemocracia+OR+teledemocracia+OR+democracia+AND+Internet&btnG='\n",
    "driver = webdriver.Chrome(\"/home/victor/Documents/chromedriver\")\n",
    "\n",
    "grids = []\n",
    "# FIRST\n",
    "driver.get('https://scholar.google.com.br/')\n",
    "time.sleep(13)\n",
    "driver.get(url.format(0))\n",
    "time.sleep((random.random()*10)/3)\n",
    "grid = driver.find_element_by_css_selector(\"#gs_res_ccl_mid\")\n",
    "grids.append(grid.get_attribute(\"innerHTML\"))\n",
    "time.sleep((random.random()*10)/2)\n",
    "#/ FIRST\n",
    "\n",
    "nResults = driver.find_element_by_css_selector(\"#gs_ab_md > div\")\n",
    "nResults = nResults.text\n",
    "nResults = nResults.split(\"results\")[0]\n",
    "nResults = [e for e in nResults if e.isdigit()]\n",
    "nResults = \"\".join(nResults).strip()\n",
    "nResults = round((int(nResults) + 10)/10)\n",
    "print(nResults)\n",
    "for i in range(1, 100):\n",
    "\n",
    "    driver.get(url.format(i*10))\n",
    "    time.sleep((random.random()*10)/2)\n",
    "\n",
    "    grid = driver.find_element_by_css_selector(\"#gs_res_ccl_mid\")\n",
    "    grids.append(grid.get_attribute(\"innerHTML\"))\n",
    "    time.sleep((random.random()*10)/2)\n",
    "\n",
    "    print(i*10)\n",
    "\n"
   ]
  },
  {
   "cell_type": "code",
   "execution_count": 19,
   "metadata": {},
   "outputs": [],
   "source": [
    "# write grids\n",
    "for i in range(len(grids)):\n",
    "    file = open(\"/home/victor/Desktop/grids/{}.html\".format(i), \"w+\")\n",
    "    file.write(grids[i])\n",
    "    file.close()"
   ]
  },
  {
   "cell_type": "code",
   "execution_count": 20,
   "metadata": {},
   "outputs": [],
   "source": [
    "# grids to lists\n",
    "artigos = []\n",
    "for grid in grids:\n",
    "    grid = BeautifulSoup(grid)\n",
    "    grid_list = getListFromGrid(grid)\n",
    "    artigos.extend(grid_list)"
   ]
  },
  {
   "cell_type": "code",
   "execution_count": 21,
   "metadata": {},
   "outputs": [],
   "source": [
    "# lists to DF\n",
    "papers_df = pd.DataFrame(data={\n",
    "    \"title_text\":[e[\"title\"] for e in artigos],\n",
    "    \"title_url\":[e[\"title_url\"] for e in artigos],\n",
    "    \"green_line\":[e[\"green_line\"] for e in artigos],\n",
    "    \"doc_url\":[e[\"doc_url\"] for e in artigos],\n",
    "    \"abstract\":[e[\"abstract\"] for e in artigos]\n",
    "})\n",
    "\n",
    "now = datetime.datetime.strftime(datetime.datetime.now(), \"%d-%m-%Y %Hh%M\")\n",
    "papers_df.to_csv(\"/home/victor/Desktop/papers {}.csv\".format(now), index=False)"
   ]
  },
  {
   "cell_type": "code",
   "execution_count": null,
   "metadata": {},
   "outputs": [],
   "source": [
    "list(new_papers_df.columns.values)[\"index\"]"
   ]
  },
  {
   "cell_type": "code",
   "execution_count": null,
   "metadata": {},
   "outputs": [],
   "source": [
    "new_papers_df = papers_df.loc[ [\"[HTML]\" not in e for e in papers_df[\"title_text\"]]]\n",
    "new_papers_df = new_papers_df.loc[ [\"[CITAÇÃO]\" not in e for e in new_papers_df[\"title_text\"]]]\n",
    "new_papers_df = new_papers_df.loc[ [\"[BOOK]\" not in e for e in new_papers_df[\"title_text\"]]]\n",
    "new_papers_df = new_papers_df.loc[ [\"[LIVRO]\" not in e for e in new_papers_df[\"title_text\"]]]\n",
    "new_papers_df = new_papers_df.reset_index()\n",
    "new_papers_df = new_papers_df.loc[:,new_papers_df.columns != \"index\"]\n",
    "new_papers_df"
   ]
  },
  {
   "cell_type": "code",
   "execution_count": null,
   "metadata": {},
   "outputs": [],
   "source": [
    "titles_url = list(papers_df['title_url'])\n",
    "sites_list = []\n",
    "for e in titles_url:\n",
    "    try:\n",
    "        site = re.search(\".*?\\.(.*?\\..*?)\\.\", e).group(1)\n",
    "        sites_url = sites_list.append(site)\n",
    "    except:\n",
    "        sites_url = sites_list.append(\"NA\")\n",
    "\n",
    "unique_sites = list(set(sites_list))\n",
    "\n",
    "for u in unique_sites:\n",
    "    print(u)\n",
    "    \n",
    "print(len(unique_sites))\n",
    "\n",
    "count_sites = {}\n",
    "for u in unique_sites:\n",
    "    count_sites[u] = sites_list.count(u)"
   ]
  },
  {
   "cell_type": "code",
   "execution_count": null,
   "metadata": {},
   "outputs": [],
   "source": [
    "keys = list(count_sites.keys())\n",
    "values = list(count_sites.values())\n",
    "\n",
    "sites_count_df = pd.DataFrame(data={\"keys\":keys, \"values\":values})\n",
    "sites_count_df"
   ]
  },
  {
   "cell_type": "code",
   "execution_count": 30,
   "metadata": {},
   "outputs": [],
   "source": [
    "en = len(new_papers_df)\n",
    "l = en/6\n",
    "new_papers_df['delete'] = 0\n",
    "new_papers_df.loc[1:l, 'classificador'] = 'victor'\n",
    "new_papers_df.loc[l:l*2, 'classificador'] = 'murillo'\n",
    "new_papers_df.loc[l*2:l*3, 'classificador'] = 'tiago'\n",
    "new_papers_df.loc[l*3:l*4, 'classificador'] = 'pri'\n",
    "new_papers_df.loc[l*4:l*5, 'classificador'] = 'pedro'\n",
    "new_papers_df.loc[l*5:en, 'classificador'] = 'rafael'\n",
    "new_papers_df.to_csv('FUNCIONOU AEHOO.csv', index=False)"
   ]
  },
  {
   "cell_type": "code",
   "execution_count": null,
   "metadata": {},
   "outputs": [],
   "source": [
    "len(new_papers_df)"
   ]
  }
 ],
 "metadata": {
  "kernelspec": {
   "display_name": "Python 3 (ipykernel)",
   "language": "python",
   "name": "python3"
  },
  "language_info": {
   "codemirror_mode": {
    "name": "ipython",
    "version": 3
   },
   "file_extension": ".py",
   "mimetype": "text/x-python",
   "name": "python",
   "nbconvert_exporter": "python",
   "pygments_lexer": "ipython3",
   "version": "3.9.6"
  }
 },
 "nbformat": 4,
 "nbformat_minor": 4
}
